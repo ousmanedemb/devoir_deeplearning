{
 "cells": [
  {
   "cell_type": "code",
   "execution_count": 11,
   "id": "initial_id",
   "metadata": {
    "collapsed": true,
    "ExecuteTime": {
     "end_time": "2025-05-21T08:48:34.344609Z",
     "start_time": "2025-05-21T08:48:34.337263Z"
    }
   },
   "outputs": [],
   "source": [
    "import pandas as pd\n",
    "import torch\n",
    "from torch.utils.data import Dataset, DataLoader\n",
    "from transformers import BertTokenizer, BertForSequenceClassification\n",
    "from torch.optim import AdamW\n",
    "from sklearn.model_selection import train_test_split\n",
    "from sklearn.metrics import accuracy_score\n",
    "import gradio as gr"
   ]
  },
  {
   "cell_type": "code",
   "outputs": [],
   "source": [
    "# Chargement et nettoyage des données\n",
    "fichier_csv = \"fake_job_postings 2.csv\" \n",
    "df = pd.read_csv(fichier_csv)\n",
    "df = df[['description', 'required_experience']].dropna()\n",
    "df['etiquette'] = df['required_experience'].astype('category').cat.codes\n",
    "mapping_etiquettes = dict(enumerate(df['required_experience'].astype('category').cat.categories))"
   ],
   "metadata": {
    "collapsed": false,
    "ExecuteTime": {
     "end_time": "2025-05-21T08:48:39.020530Z",
     "start_time": "2025-05-21T08:48:37.835672Z"
    }
   },
   "id": "b07d54669fd1cdb",
   "execution_count": 12
  },
  {
   "cell_type": "code",
   "outputs": [
    {
     "data": {
      "text/plain": "{0: 'Associate',\n 1: 'Director',\n 2: 'Entry level',\n 3: 'Executive',\n 4: 'Internship',\n 5: 'Mid-Senior level',\n 6: 'Not Applicable'}"
     },
     "execution_count": 13,
     "metadata": {},
     "output_type": "execute_result"
    }
   ],
   "source": [
    "mapping_etiquettes"
   ],
   "metadata": {
    "collapsed": false,
    "ExecuteTime": {
     "end_time": "2025-05-21T08:48:40.844203Z",
     "start_time": "2025-05-21T08:48:40.832207Z"
    }
   },
   "id": "e199d123d41a34bf",
   "execution_count": 13
  },
  {
   "cell_type": "code",
   "outputs": [],
   "source": [
    "# Tokenisation BERT\n",
    "tokenizer = BertTokenizer.from_pretrained('bert-base-uncased')\n",
    "\n",
    "class ExperienceDataset(Dataset):\n",
    "    def __init__(self, textes, etiquettes, tokenizer, longueur_max=256):\n",
    "        self.encodages = tokenizer(textes, truncation=True, padding=True, max_length=longueur_max)\n",
    "        self.etiquettes = etiquettes\n",
    "\n",
    "    def __getitem__(self, idx):\n",
    "        return {\n",
    "            'input_ids': torch.tensor(self.encodages['input_ids'][idx]),\n",
    "            'attention_mask': torch.tensor(self.encodages['attention_mask'][idx]),\n",
    "            'labels': torch.tensor(self.etiquettes[idx])\n",
    "        }\n",
    "\n",
    "    def __len__(self):\n",
    "        return len(self.etiquettes)"
   ],
   "metadata": {
    "collapsed": false,
    "ExecuteTime": {
     "end_time": "2025-05-21T08:55:49.240660Z",
     "start_time": "2025-05-21T08:55:46.209587Z"
    }
   },
   "id": "2caf42e263aa4df",
   "execution_count": 15
  },
  {
   "cell_type": "code",
   "outputs": [],
   "source": [
    "# Division des données\n",
    "textes_train, textes_test, etiquettes_train, etiquettes_test = train_test_split(\n",
    "    df['description'].tolist(),\n",
    "    df['etiquette'].tolist(),\n",
    "    test_size=0.2,\n",
    "    stratify=df['etiquette'],\n",
    "    random_state=42\n",
    ")\n",
    "\n",
    "jeu_entraînement = ExperienceDataset(textes_train, etiquettes_train, tokenizer)\n",
    "jeu_test = ExperienceDataset(textes_test, etiquettes_test, tokenizer)\n",
    "\n",
    "chargeur_entraînement = DataLoader(jeu_entraînement, batch_size=8, shuffle=True)\n",
    "chargeur_test = DataLoader(jeu_test, batch_size=2)"
   ],
   "metadata": {
    "collapsed": false,
    "ExecuteTime": {
     "end_time": "2025-05-21T08:57:31.006936Z",
     "start_time": "2025-05-21T08:56:23.613081Z"
    }
   },
   "id": "8e2e40358928f040",
   "execution_count": 16
  },
  {
   "cell_type": "code",
   "outputs": [
    {
     "name": "stderr",
     "output_type": "stream",
     "text": [
      "Some weights of BertForSequenceClassification were not initialized from the model checkpoint at bert-base-uncased and are newly initialized: ['classifier.bias', 'classifier.weight']\n",
      "You should probably TRAIN this model on a down-stream task to be able to use it for predictions and inference.\n"
     ]
    }
   ],
   "source": [
    "# Chargement du modèle\n",
    "modele = BertForSequenceClassification.from_pretrained('bert-base-uncased', num_labels=len(mapping_etiquettes))\n",
    "optimiseur = AdamW(modele.parameters(), lr=5e-5)\n",
    "device = torch.device(\"cuda\" if torch.cuda.is_available() else \"cpu\")\n",
    "modele = modele.to(device)"
   ],
   "metadata": {
    "collapsed": false,
    "ExecuteTime": {
     "end_time": "2025-05-21T08:57:57.744878Z",
     "start_time": "2025-05-21T08:57:55.291347Z"
    }
   },
   "id": "bc10878a331cb2c2",
   "execution_count": 17
  },
  {
   "cell_type": "code",
   "outputs": [
    {
     "data": {
      "text/plain": "BertForSequenceClassification(\n  (bert): BertModel(\n    (embeddings): BertEmbeddings(\n      (word_embeddings): Embedding(30522, 768, padding_idx=0)\n      (position_embeddings): Embedding(512, 768)\n      (token_type_embeddings): Embedding(2, 768)\n      (LayerNorm): LayerNorm((768,), eps=1e-12, elementwise_affine=True)\n      (dropout): Dropout(p=0.1, inplace=False)\n    )\n    (encoder): BertEncoder(\n      (layer): ModuleList(\n        (0-11): 12 x BertLayer(\n          (attention): BertAttention(\n            (self): BertSdpaSelfAttention(\n              (query): Linear(in_features=768, out_features=768, bias=True)\n              (key): Linear(in_features=768, out_features=768, bias=True)\n              (value): Linear(in_features=768, out_features=768, bias=True)\n              (dropout): Dropout(p=0.1, inplace=False)\n            )\n            (output): BertSelfOutput(\n              (dense): Linear(in_features=768, out_features=768, bias=True)\n              (LayerNorm): LayerNorm((768,), eps=1e-12, elementwise_affine=True)\n              (dropout): Dropout(p=0.1, inplace=False)\n            )\n          )\n          (intermediate): BertIntermediate(\n            (dense): Linear(in_features=768, out_features=3072, bias=True)\n            (intermediate_act_fn): GELUActivation()\n          )\n          (output): BertOutput(\n            (dense): Linear(in_features=3072, out_features=768, bias=True)\n            (LayerNorm): LayerNorm((768,), eps=1e-12, elementwise_affine=True)\n            (dropout): Dropout(p=0.1, inplace=False)\n          )\n        )\n      )\n    )\n    (pooler): BertPooler(\n      (dense): Linear(in_features=768, out_features=768, bias=True)\n      (activation): Tanh()\n    )\n  )\n  (dropout): Dropout(p=0.1, inplace=False)\n  (classifier): Linear(in_features=768, out_features=7, bias=True)\n)"
     },
     "execution_count": 18,
     "metadata": {},
     "output_type": "execute_result"
    }
   ],
   "source": [
    "# Entraînement du modèle\n",
    "modele.train()"
   ],
   "metadata": {
    "collapsed": false,
    "ExecuteTime": {
     "end_time": "2025-05-21T08:58:00.956067Z",
     "start_time": "2025-05-21T08:58:00.944745Z"
    }
   },
   "id": "c6b7b239b08e957d",
   "execution_count": 18
  },
  {
   "cell_type": "code",
   "outputs": [
    {
     "name": "stdout",
     "output_type": "stream",
     "text": [
      "Époque 1 terminée.\n",
      "Époque 2 terminée.\n",
      "Époque 3 terminée.\n"
     ]
    }
   ],
   "source": [
    "for epoch in range(3):\n",
    "    for lot in chargeur_entraînement:\n",
    "        optimiseur.zero_grad()\n",
    "        sorties = modele(input_ids=lot['input_ids'].to(device), \n",
    "                         attention_mask=lot['attention_mask'].to(device), \n",
    "                         labels=lot['labels'].to(device))\n",
    "        perte = sorties.loss\n",
    "        perte.backward()\n",
    "        optimiseur.step()\n",
    "    print(f\"Époque {epoch+1} terminée.\")"
   ],
   "metadata": {
    "collapsed": false,
    "ExecuteTime": {
     "end_time": "2025-05-21T09:13:45.500939Z",
     "start_time": "2025-05-21T08:58:31.914955Z"
    }
   },
   "id": "b234b0bd836a0a6f",
   "execution_count": 19
  },
  {
   "cell_type": "code",
   "outputs": [
    {
     "name": "stdout",
     "output_type": "stream",
     "text": [
      "Précision sur l'ensemble de test : 0.6412742382271468\n"
     ]
    }
   ],
   "source": [
    "# Évaluation\n",
    "modele.eval()\n",
    "predictions, vrais = [], []\n",
    "with torch.no_grad():\n",
    "    for lot in chargeur_test:\n",
    "        sortie = modele(input_ids=lot['input_ids'].to(device), \n",
    "                        attention_mask=lot['attention_mask'].to(device))\n",
    "        pred = torch.argmax(sortie.logits, dim=1)\n",
    "        predictions.extend(pred.tolist())\n",
    "        vrais.extend(lot['labels'].tolist())\n",
    "\n",
    "print(\"Précision sur l'ensemble de test :\", accuracy_score(vrais, predictions))"
   ],
   "metadata": {
    "collapsed": false,
    "ExecuteTime": {
     "end_time": "2025-05-21T09:20:20.340130Z",
     "start_time": "2025-05-21T09:19:50.702308Z"
    }
   },
   "id": "e5aeda43663bff0f",
   "execution_count": 20
  },
  {
   "cell_type": "code",
   "outputs": [],
   "source": [
    "def predire_experience(description):\n",
    "    encodage = tokenizer(description, return_tensors=\"pt\", truncation=True, padding=True, max_length=256)\n",
    "    encodage = {k: v.to(device) for k, v in encodage.items()}\n",
    "    sortie = modele(**encodage)\n",
    "    prediction = torch.argmax(sortie.logits, dim=1).item()\n",
    "    return mapping_etiquettes[prediction]\n"
   ],
   "metadata": {
    "collapsed": false,
    "ExecuteTime": {
     "end_time": "2025-05-21T09:26:09.952567Z",
     "start_time": "2025-05-21T09:26:09.943571Z"
    }
   },
   "id": "f9a8af40c271c57e",
   "execution_count": 23
  },
  {
   "cell_type": "code",
   "outputs": [
    {
     "name": "stdout",
     "output_type": "stream",
     "text": [
      "➡️ Niveau d'expérience prédit : Mid-Senior level\n"
     ]
    }
   ],
   "source": [
    "# Exemple de description\n",
    "texte_test = \"\"\"\n",
    "We are looking for a passionate software engineer to work on web applications using Python and React. \n",
    "You will collaborate with a team of experienced developers.\n",
    "\"\"\"\n",
    "\n",
    "# Prédiction\n",
    "niveau = predire_experience(texte_test)\n",
    "\n",
    "print(\"➡️ Niveau d'expérience prédit :\", niveau)"
   ],
   "metadata": {
    "collapsed": false,
    "ExecuteTime": {
     "end_time": "2025-05-21T09:26:14.599409Z",
     "start_time": "2025-05-21T09:26:14.522016Z"
    }
   },
   "id": "8dfeb93df24c070a",
   "execution_count": 24
  },
  {
   "cell_type": "code",
   "outputs": [
    {
     "name": "stdout",
     "output_type": "stream",
     "text": [
      "* Running on local URL:  http://127.0.0.1:7861\n",
      "* To create a public link, set `share=True` in `launch()`.\n"
     ]
    },
    {
     "data": {
      "text/plain": "<IPython.core.display.HTML object>",
      "text/html": "<div><iframe src=\"http://127.0.0.1:7861/\" width=\"100%\" height=\"500\" allow=\"autoplay; camera; microphone; clipboard-read; clipboard-write;\" frameborder=\"0\" allowfullscreen></iframe></div>"
     },
     "metadata": {},
     "output_type": "display_data"
    },
    {
     "data": {
      "text/plain": ""
     },
     "execution_count": 25,
     "metadata": {},
     "output_type": "execute_result"
    }
   ],
   "source": [
    "# Interface Gradio\n",
    "interface = gr.Interface(\n",
    "    fn=predire_experience,\n",
    "    inputs=gr.Textbox(lines=8, placeholder=\"Entrez la description du poste ici...\"),\n",
    "    outputs=\"text\",\n",
    "    title=\"Prédicteur d'expérience requise (BERT)\",\n",
    "    description=\"Cette application prédit le niveau d'expérience requis à partir d'une description de poste.\"\n",
    ")\n",
    "\n",
    "interface.launch()"
   ],
   "metadata": {
    "collapsed": false,
    "ExecuteTime": {
     "end_time": "2025-05-21T09:26:45.619798Z",
     "start_time": "2025-05-21T09:26:43.580272Z"
    }
   },
   "id": "8ab9b54b57c66aa4",
   "execution_count": 25
  }
 ],
 "metadata": {
  "kernelspec": {
   "display_name": "Python 3",
   "language": "python",
   "name": "python3"
  },
  "language_info": {
   "codemirror_mode": {
    "name": "ipython",
    "version": 2
   },
   "file_extension": ".py",
   "mimetype": "text/x-python",
   "name": "python",
   "nbconvert_exporter": "python",
   "pygments_lexer": "ipython2",
   "version": "2.7.6"
  }
 },
 "nbformat": 4,
 "nbformat_minor": 5
}
